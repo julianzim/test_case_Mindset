{
 "cells": [
  {
   "cell_type": "code",
   "execution_count": 3,
   "id": "6c75a0a6",
   "metadata": {},
   "outputs": [],
   "source": [
    "from neo4j import GraphDatabase as GDb\n",
    "\n",
    "class Neo4jConnection:\n",
    "    \"\"\"Класс описывающий взаимодействие с СУБД Neo4j\"\"\"\n",
    "\n",
    "# Подключение к БД\n",
    "    def __init__(self, uri, user, password):\n",
    "        self.driver = GDb.driver(uri, auth=(user, password))\n",
    "\n",
    "# Отключение от БД\n",
    "    def close(self):\n",
    "        if self.driver is not None:\n",
    "            self.driver.close()\n",
    "\n",
    "# Передача запросов в БД\n",
    "    def query(self, query, db=None):\n",
    "        assert self.driver is not None, \"Driver not initialized!\"\n",
    "        session = None\n",
    "        response = None\n",
    "        try:\n",
    "            session = self.driver.session(database=db) if db is not None else self.driver.session()\n",
    "            response = list(session.run(query))\n",
    "        except Exception as e:\n",
    "            print(\"Query failed:\", e)\n",
    "        finally:\n",
    "            if session is not None:\n",
    "                session.close()\n",
    "        return response"
   ]
  },
  {
   "cell_type": "code",
   "execution_count": 8,
   "id": "7b97c52f",
   "metadata": {},
   "outputs": [
    {
     "data": {
      "text/html": [
       "<div>\n",
       "<style scoped>\n",
       "    .dataframe tbody tr th:only-of-type {\n",
       "        vertical-align: middle;\n",
       "    }\n",
       "\n",
       "    .dataframe tbody tr th {\n",
       "        vertical-align: top;\n",
       "    }\n",
       "\n",
       "    .dataframe thead th {\n",
       "        text-align: right;\n",
       "    }\n",
       "</style>\n",
       "<table border=\"1\" class=\"dataframe\">\n",
       "  <thead>\n",
       "    <tr style=\"text-align: right;\">\n",
       "      <th></th>\n",
       "      <th>id события</th>\n",
       "      <th>ФИО участника события 1</th>\n",
       "      <th>ФИО участника события 2</th>\n",
       "    </tr>\n",
       "  </thead>\n",
       "  <tbody>\n",
       "    <tr>\n",
       "      <th>0</th>\n",
       "      <td>189</td>\n",
       "      <td>Галчевская Карина Владимировна</td>\n",
       "      <td>Белоновская Анастасия Семеновна</td>\n",
       "    </tr>\n",
       "    <tr>\n",
       "      <th>1</th>\n",
       "      <td>206</td>\n",
       "      <td>Офицеров Олег Романович</td>\n",
       "      <td>Сапожник Борис Валерьевич</td>\n",
       "    </tr>\n",
       "    <tr>\n",
       "      <th>2</th>\n",
       "      <td>445</td>\n",
       "      <td>Жандарова Лариса Германовна</td>\n",
       "      <td>Чемодуров Дамир Русланович</td>\n",
       "    </tr>\n",
       "    <tr>\n",
       "      <th>3</th>\n",
       "      <td>503</td>\n",
       "      <td>Масимова Яна Дамировна</td>\n",
       "      <td>Мингажетдинов Рамиль Семенович</td>\n",
       "    </tr>\n",
       "    <tr>\n",
       "      <th>4</th>\n",
       "      <td>571</td>\n",
       "      <td>Мухтарова Алена Яковлевна</td>\n",
       "      <td>Щербатенко Ольга Робертовна</td>\n",
       "    </tr>\n",
       "  </tbody>\n",
       "</table>\n",
       "</div>"
      ],
      "text/plain": [
       "   id события         ФИО участника события 1          ФИО участника события 2\n",
       "0         189  Галчевская Карина Владимировна  Белоновская Анастасия Семеновна\n",
       "1         206         Офицеров Олег Романович        Сапожник Борис Валерьевич\n",
       "2         445     Жандарова Лариса Германовна       Чемодуров Дамир Русланович\n",
       "3         503          Масимова Яна Дамировна   Мингажетдинов Рамиль Семенович\n",
       "4         571       Мухтарова Алена Яковлевна      Щербатенко Ольга Робертовна"
      ]
     },
     "execution_count": 8,
     "metadata": {},
     "output_type": "execute_result"
    }
   ],
   "source": [
    "# Посмотрим на датасет\n",
    "import pandas as pd\n",
    "\n",
    "data = pd.read_csv('data_test.csv', sep=';')\n",
    "data.head()"
   ]
  },
  {
   "cell_type": "code",
   "execution_count": 9,
   "id": "0af34dbe",
   "metadata": {},
   "outputs": [
    {
     "data": {
      "text/plain": [
       "[]"
      ]
     },
     "execution_count": 9,
     "metadata": {},
     "output_type": "execute_result"
    }
   ],
   "source": [
    "# Создадим подключение к локальной БД\n",
    "graphdb = Neo4jConnection(uri=\"bolt://localhost:7687\", user=\"neo4j\", password=\"julian123\")\n",
    "graphdb.query(\"CREATE DATABASE datatest\")\n",
    "\n",
    "# Создадим запрос на импорт данных из таблицы в БД\n",
    "query = '''\n",
    "LOAD CSV FROM \n",
    "'file:///data_test.csv' AS line FIELDTERMINATOR ';'\n",
    "CREATE (e:Event {eventID: line[0]}),\n",
    "(m1:Person {name: line[1]}),\n",
    "(m2:Person {name: line[2]}),\n",
    "(m1)-[:Participant]->(e),\n",
    "(m2)-[:Participant]->(e)\n",
    "'''\n",
    "graphdb.query(query, db='datatest')"
   ]
  },
  {
   "cell_type": "code",
   "execution_count": null,
   "id": "96aac187",
   "metadata": {},
   "outputs": [],
   "source": []
  }
 ],
 "metadata": {
  "kernelspec": {
   "display_name": "Python 3 (ipykernel)",
   "language": "python",
   "name": "python3"
  },
  "language_info": {
   "codemirror_mode": {
    "name": "ipython",
    "version": 3
   },
   "file_extension": ".py",
   "mimetype": "text/x-python",
   "name": "python",
   "nbconvert_exporter": "python",
   "pygments_lexer": "ipython3",
   "version": "3.10.9"
  }
 },
 "nbformat": 4,
 "nbformat_minor": 5
}
